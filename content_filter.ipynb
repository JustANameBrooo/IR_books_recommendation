{
 "cells": [
  {
   "cell_type": "code",
   "execution_count": 4,
   "metadata": {},
   "outputs": [],
   "source": [
    "import numpy as np\n",
    "import pandas as pd\n",
    "from sklearn.feature_extraction.text import TfidfVectorizer, CountVectorizer\n",
    "from sklearn.metrics.pairwise import linear_kernel, cosine_similarity"
   ]
  },
  {
   "cell_type": "code",
   "execution_count": 5,
   "metadata": {},
   "outputs": [],
   "source": [
    "df = pd.read_csv(r'.\\booklist.csv')\n",
    "\n",
    "col_names=['bookId','title','series','author','rating','description','lang','isbn','genres','characters','bookForm','edition','pages','publisher','publishDate','firstPublished','awards','numRating','ratingsByStars','likedPercent','setting','coverImg','bbeScore','bbeVotes','price']\n",
    "wanted_cols = ['bookId','title','series','author','rating','description','genres','characters','setting','coverImg']\n",
    "\n",
    "#TODO: filter out our wanted cols, create our index and save it to a file(?)\n",
    "filtered_df = df[wanted_cols].head(5)"
   ]
  },
  {
   "cell_type": "code",
   "execution_count": 9,
   "metadata": {},
   "outputs": [
    {
     "name": "stdout",
     "output_type": "stream",
     "text": [
      "         18  18 million      1813  1813 pride      1960  1960 went      1961  \\\n",
      "0  0.000000    0.000000  0.000000    0.000000  0.000000   0.000000  0.000000   \n",
      "1  0.000000    0.000000  0.000000    0.000000  0.000000   0.000000  0.000000   \n",
      "2  0.081936    0.081936  0.000000    0.000000  0.081936   0.081936  0.081936   \n",
      "3  0.000000    0.000000  0.089228    0.089228  0.000000   0.000000  0.000000   \n",
      "4  0.000000    0.000000  0.000000    0.000000  0.000000   0.000000  0.000000   \n",
      "\n",
      "   1961 later  9780679783268since  9780679783268since immediate  ...  \\\n",
      "0    0.000000            0.000000                      0.000000  ...   \n",
      "1    0.000000            0.000000                      0.000000  ...   \n",
      "2    0.081936            0.000000                      0.000000  ...   \n",
      "3    0.000000            0.089228                      0.089228  ...   \n",
      "4    0.000000            0.000000                      0.000000  ...   \n",
      "\n",
      "   wizarding level     woman  woman claims      work  work darling      year  \\\n",
      "0         0.000000  0.000000      0.000000  0.000000      0.000000  0.061040   \n",
      "1         0.083246  0.000000      0.000000  0.000000      0.000000  0.067162   \n",
      "2         0.000000  0.081936      0.081936  0.000000      0.000000  0.000000   \n",
      "3         0.000000  0.000000      0.000000  0.089228      0.089228  0.000000   \n",
      "4         0.000000  0.000000      0.000000  0.000000      0.000000  0.000000   \n",
      "\n",
      "   year hogwarts  year old     young  young alabama  \n",
      "0       0.000000  0.075657  0.000000       0.000000  \n",
      "1       0.083246  0.000000  0.000000       0.000000  \n",
      "2       0.000000  0.000000  0.081936       0.081936  \n",
      "3       0.000000  0.000000  0.000000       0.000000  \n",
      "4       0.000000  0.000000  0.000000       0.000000  \n",
      "\n",
      "[5 rows x 548 columns]\n"
     ]
    }
   ],
   "source": [
    "tf = TfidfVectorizer(analyzer='word',ngram_range=(1, 2),min_df=0, stop_words='english')\n",
    "tfidf_matrix = tf.fit_transform(filtered_df['description'].values.astype('U'))\n",
    "test_df = pd.DataFrame(tfidf_matrix.toarray(), columns = tf.get_feature_names())\n",
    "print(test_df)\n"
   ]
  },
  {
   "cell_type": "code",
   "execution_count": null,
   "metadata": {},
   "outputs": [
    {
     "name": "stdout",
     "output_type": "stream",
     "text": [
      "[1.00000000e+00 9.37025755e-04 5.58931176e-03 ... 1.16331301e-02\n",
      " 0.00000000e+00 6.39679240e-03]\n",
      "[9.37025755e-04 1.00000000e+00 0.00000000e+00 ... 4.08465597e-03\n",
      " 1.41892175e-03 0.00000000e+00]\n",
      "(52478,)\n"
     ]
    }
   ],
   "source": [
    "cosine_sim = linear_kernel(tfidf_matrix, tfidf_matrix)\n",
    "print(cosine_sim[0])\n",
    "print(cosine_sim[1])\n",
    "print(cosine_sim[0].shape)"
   ]
  },
  {
   "cell_type": "code",
   "execution_count": null,
   "metadata": {},
   "outputs": [
    {
     "name": "stdout",
     "output_type": "stream",
     "text": [
      "title\n",
      "The Hunger Games                                                         0\n",
      "Harry Potter and the Order of the Phoenix                                1\n",
      "To Kill a Mockingbird                                                    2\n",
      "Pride and Prejudice                                                      3\n",
      "Twilight                                                                 4\n",
      "The Book Thief                                                           5\n",
      "Animal Farm                                                              6\n",
      "The Chronicles of Narnia                                                 7\n",
      "J.R.R. Tolkien 4-Book Boxed Set: The Hobbit and The Lord of the Rings    8\n",
      "Gone with the Wind                                                       9\n",
      "dtype: int64\n"
     ]
    }
   ],
   "source": [
    "indices = pd.Series(df.index ,index=df['title'])\n",
    "print(indices.head(10))\n"
   ]
  },
  {
   "cell_type": "code",
   "execution_count": null,
   "metadata": {},
   "outputs": [],
   "source": [
    "def get_recommendations(title, no_of_recommendation):\n",
    "    idx = indices[title]\n",
    "    sim_scores = list(enumerate(cosine_sim[idx]))\n",
    "    sim_scores = sorted(sim_scores, key=lambda x: x[1], reverse=True)\n",
    "    sim_scores = sim_scores[1:no_of_recommendation+1]\n",
    "    print(len(sim_scores))\n",
    "    book_indices = [i[0] for i in sim_scores]\n",
    "    return df[\"title\"].iloc[book_indices]"
   ]
  },
  {
   "cell_type": "code",
   "execution_count": null,
   "metadata": {},
   "outputs": [
    {
     "name": "stdout",
     "output_type": "stream",
     "text": [
      "10\n"
     ]
    },
    {
     "data": {
      "text/plain": [
       "93                Harry Potter and the Prisoner of Azkaban\n",
       "126                Harry Potter and the Chamber of Secrets\n",
       "32                   Harry Potter and the Sorcerer's Stone\n",
       "11030    Harry Potter Schoolbooks Box Set: Two Classic ...\n",
       "7008     Harry Potter Boxed Set, Books 1-5 (Harry Potte...\n",
       "103                    Harry Potter and the Goblet of Fire\n",
       "51722         Hogwarts: An Incomplete and Unreliable Guide\n",
       "21783                                               Pronto\n",
       "1600                       The Harry Potter Collection 1-4\n",
       "34781    The Unofficial Harry Potter Cookbook: From Cau...\n",
       "Name: title, dtype: object"
      ]
     },
     "execution_count": 7,
     "metadata": {},
     "output_type": "execute_result"
    }
   ],
   "source": [
    "get_recommendations(\"Harry Potter and the Order of the Phoenix\", 10)"
   ]
  }
 ],
 "metadata": {
  "kernelspec": {
   "display_name": "Python 3.9.7 ('base')",
   "language": "python",
   "name": "python3"
  },
  "language_info": {
   "codemirror_mode": {
    "name": "ipython",
    "version": 3
   },
   "file_extension": ".py",
   "mimetype": "text/x-python",
   "name": "python",
   "nbconvert_exporter": "python",
   "pygments_lexer": "ipython3",
   "version": "3.9.7"
  },
  "orig_nbformat": 4,
  "vscode": {
   "interpreter": {
    "hash": "ad2bdc8ecc057115af97d19610ffacc2b4e99fae6737bb82f5d7fb13d2f2c186"
   }
  }
 },
 "nbformat": 4,
 "nbformat_minor": 2
}
