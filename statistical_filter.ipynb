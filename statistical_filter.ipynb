{
 "cells": [
  {
   "cell_type": "code",
   "execution_count": 22,
   "metadata": {},
   "outputs": [],
   "source": [
    "import numpy as np\n",
    "import pandas as pd"
   ]
  },
  {
   "cell_type": "code",
   "execution_count": 23,
   "metadata": {},
   "outputs": [],
   "source": [
    "def get_recommendations(no_of_recommendation):\n",
    "    df = pd.read_csv(r'.\\booklist.csv')\n",
    "    df['weightedRating'] = (((df[\"rating\"] -  1)/4) + (df[\"likedPercent\"] * 0.01) + ((df['numRatings'] - df['numRatings'].min()) / (df['numRatings'].max() - df['numRatings'].min())))/3\n",
    "    df = df.sort_values('weightedRating', ascending=False)\n",
    "    return df['title'].iloc[:no_of_recommendation]\n"
   ]
  },
  {
   "cell_type": "code",
   "execution_count": 24,
   "metadata": {},
   "outputs": [
    {
     "data": {
      "text/plain": [
       "32         Harry Potter and the Sorcerer's Stone\n",
       "0                               The Hunger Games\n",
       "2                          To Kill a Mockingbird\n",
       "71          Harry Potter and the Deathly Hallows\n",
       "93      Harry Potter and the Prisoner of Azkaban\n",
       "103          Harry Potter and the Goblet of Fire\n",
       "10                        The Fault in Our Stars\n",
       "126      Harry Potter and the Chamber of Secrets\n",
       "105       Harry Potter and the Half-Blood Prince\n",
       "1      Harry Potter and the Order of the Phoenix\n",
       "Name: title, dtype: object"
      ]
     },
     "execution_count": 24,
     "metadata": {},
     "output_type": "execute_result"
    }
   ],
   "source": [
    "get_recommendations(10)"
   ]
  }
 ],
 "metadata": {
  "kernelspec": {
   "display_name": "Python 3.9.7 ('base')",
   "language": "python",
   "name": "python3"
  },
  "language_info": {
   "codemirror_mode": {
    "name": "ipython",
    "version": 3
   },
   "file_extension": ".py",
   "mimetype": "text/x-python",
   "name": "python",
   "nbconvert_exporter": "python",
   "pygments_lexer": "ipython3",
   "version": "3.9.7"
  },
  "orig_nbformat": 4,
  "vscode": {
   "interpreter": {
    "hash": "ad2bdc8ecc057115af97d19610ffacc2b4e99fae6737bb82f5d7fb13d2f2c186"
   }
  }
 },
 "nbformat": 4,
 "nbformat_minor": 2
}
