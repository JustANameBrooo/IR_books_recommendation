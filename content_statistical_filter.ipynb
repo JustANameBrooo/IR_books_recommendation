{
 "cells": [
  {
   "cell_type": "code",
   "execution_count": 44,
   "metadata": {},
   "outputs": [],
   "source": [
    "import numpy as np\n",
    "import pandas as pd\n",
    "from ast import literal_eval\n",
    "from sklearn.feature_extraction.text import TfidfVectorizer, CountVectorizer\n",
    "from sklearn.metrics.pairwise import linear_kernel, cosine_similarity\n",
    "import nltk\n",
    "import re\n",
    "\n",
    "stop_words = nltk.corpus.stopwords.words('english')"
   ]
  },
  {
   "cell_type": "code",
   "execution_count": 45,
   "metadata": {},
   "outputs": [
    {
     "name": "stdout",
     "output_type": "stream",
     "text": [
      "0                                     The Hunger Games\n",
      "1            Harry Potter and the Order of the Phoenix\n",
      "2                                To Kill a Mockingbird\n",
      "3                                  Pride and Prejudice\n",
      "4                                             Twilight\n",
      "5                                       The Book Thief\n",
      "6                                          Animal Farm\n",
      "7                             The Chronicles of Narnia\n",
      "8    J.R.R. Tolkien 4-Book Boxed Set: The Hobbit an...\n",
      "9                                   Gone with the Wind\n",
      "Name: title, dtype: object\n",
      "(52478, 25)\n",
      "39378                     The Midnight Ride of Paul Revere\n",
      "40460    Guests of the Sheik: An Ethnography of an Iraq...\n",
      "21118                                  Capturing the Devil\n",
      "3398                                             Betrayals\n",
      "5521                                           Angels Fall\n",
      "29306                                Thank You, Mr. Falker\n",
      "49048    Haunted Kent (Images Of England) (Images Of En...\n",
      "38667                                  The Spook’s Revenge\n",
      "9682                                         City of Glass\n",
      "3652                                                Awaken\n",
      "Name: title, dtype: object\n",
      "(20000, 25)\n",
      "object\n",
      "object\n",
      "object\n"
     ]
    }
   ],
   "source": [
    "df = pd.read_csv(r'.\\booklist.csv', index_col=False)\n",
    "print(df['title'].head(10))\n",
    "print(df.shape)\n",
    "df = df.sample(n=20000)\n",
    "print(df['title'].head(10))\n",
    "print(df.shape)\n",
    "\n",
    "col_names=['bookId','title','series','author','rating','description','lang','isbn','genres','characters','bookForm','edition','pages','publisher','publishDate','firstPublished','awards','numRating','ratingsByStars','likedPercent','setting','coverImg','bbeScore','bbeVotes','price']\n",
    "wanted_cols = ['bookId','title','series','author','rating','description','genres','characters','setting','coverImg']\n",
    "\n",
    "#TODO: filter out our wanted cols, create our index and save it to a file(?)\n",
    "filtered_df = df[wanted_cols].head(5)\n",
    "\n",
    "print(df['genres'].dtypes)\n",
    "print(df['characters'].dtypes)\n",
    "print(df['setting'].dtypes)"
   ]
  },
  {
   "cell_type": "code",
   "execution_count": 46,
   "metadata": {},
   "outputs": [
    {
     "name": "stdout",
     "output_type": "stream",
     "text": [
      "object\n",
      "object\n"
     ]
    }
   ],
   "source": [
    "# Characters, author and genre\n",
    "df['genres'] = df['genres'].apply(literal_eval)\n",
    "df['characters'] = df['characters'].apply(literal_eval)\n",
    "df['setting'] = df['setting'].apply(literal_eval)\n",
    "\n",
    "df['author'] = df['author'].apply(lambda x : x.split(\", \"))\n",
    "print(df['author'].dtypes)\n",
    "print(df['description'].dtypes)\n",
    "\n",
    "df['soup'] = df['author'] + df['genres'] + df['characters'] + df['setting'] \n",
    "df['soup'] = df['soup'].apply(lambda x: ' '.join(x))\n"
   ]
  },
  {
   "cell_type": "code",
   "execution_count": 47,
   "metadata": {},
   "outputs": [],
   "source": [
    "def normalize_document(doc):\n",
    "    # lower case and remove special characters\\whitespaces\n",
    "    doc = re.sub(r'[^a-zA-Z0-9\\s]', ' ', doc, re.I|re.A)\n",
    "    doc = doc.lower()\n",
    "    doc = doc.strip()\n",
    "    # tokenize document\n",
    "    tokens = nltk.word_tokenize(doc)\n",
    "    # filter stopwords out of document\n",
    "    filtered_tokens = [token for token in tokens if token not in stop_words]\n",
    "    # re-create document from filtered tokens\n",
    "    doc = ' '.join(filtered_tokens)\n",
    "    return doc"
   ]
  },
  {
   "cell_type": "code",
   "execution_count": 71,
   "metadata": {},
   "outputs": [
    {
     "name": "stdout",
     "output_type": "stream",
     "text": [
      "longfellow tribute famous revolutionary hero begins stirring cadence american school children committed memory century illustrator christoper bing adds luminous paintings historically rich engravings enrichments longfellow poem tying fiction fact really happened april night\n",
      "Henry Wadsworth Longfellow Christopher H. Bing (Illustrator) Poetry Picture Books History Classics Childrens Nonfiction Historical American Revolution American History School longfellow tribute famous revolutionary hero begins stirring cadence american school children committed memory century illustrator christoper bing adds luminous paintings historically rich engravings enrichments longfellow poem tying fiction fact really happened april nightlongfellow tribute famous revolutionary hero begins stirring cadence american school children committed memory century illustrator christoper bing adds luminous paintings historically rich engravings enrichments longfellow poem tying fiction fact really happened april night longfellow tribute famous revolutionary hero begins stirring cadence american school children committed memory century illustrator christoper bing adds luminous paintings historically rich engravings enrichments longfellow poem tying fiction fact really happened april nightlongfellow tribute famous revolutionary hero begins stirring cadence american school children committed memory century illustrator christoper bing adds luminous paintings historically rich engravings enrichments longfellow poem tying fiction fact really happened april night\n"
     ]
    }
   ],
   "source": [
    "df['description'] = df['description'].apply(lambda x : normalize_document(str(x)))\n",
    "\n",
    "\n",
    "df['soup'] = df['soup'] + \" \" + df['description']\n",
    "print(df['description'].iloc[0])\n",
    "print(df['soup'].iloc[0])"
   ]
  },
  {
   "cell_type": "code",
   "execution_count": 72,
   "metadata": {},
   "outputs": [],
   "source": [
    "tf = TfidfVectorizer(analyzer='word',ngram_range=(1, 2),min_df=0, stop_words='english')\n",
    "tfidf_matrix = tf.fit_transform(df['soup'].values.astype('U'))\n",
    "\n",
    "count = CountVectorizer(analyzer='word',ngram_range=(1, 2),min_df=0, stop_words='english')\n",
    "count_matrix = count.fit_transform(df['soup'])\n",
    "\n",
    "cosine_sim = linear_kernel(tfidf_matrix, tfidf_matrix)\n",
    "# cosine_sim = cosine_similarity(count_matrix, count_matrix)"
   ]
  },
  {
   "cell_type": "code",
   "execution_count": 73,
   "metadata": {},
   "outputs": [
    {
     "name": "stdout",
     "output_type": "stream",
     "text": [
      "(20000, 20000)\n",
      "title\n",
      "The Midnight Ride of Paul Revere                           0\n",
      "Guests of the Sheik: An Ethnography of an Iraqi Village    1\n",
      "Capturing the Devil                                        2\n",
      "Betrayals                                                  3\n",
      "Angels Fall                                                4\n",
      "Thank You, Mr. Falker                                      5\n",
      "Haunted Kent (Images Of England) (Images Of England)       6\n",
      "The Spook’s Revenge                                        7\n",
      "City of Glass                                              8\n",
      "Awaken                                                     9\n",
      "dtype: int64\n",
      "(20000,)\n",
      "[[1.00000000e+00 1.36994798e-03 2.52124685e-03 ... 2.62798961e-03\n",
      "  1.58860487e-03 2.41027730e-04]\n",
      " [1.36994798e-03 1.00000000e+00 3.14064176e-03 ... 1.17648101e-03\n",
      "  0.00000000e+00 1.51333044e-03]\n",
      " [2.52124685e-03 3.14064176e-03 1.00000000e+00 ... 1.14347358e-02\n",
      "  1.12962958e-02 8.35699488e-03]\n",
      " ...\n",
      " [2.62798961e-03 1.17648101e-03 1.14347358e-02 ... 1.00000000e+00\n",
      "  3.57287808e-03 7.82787935e-04]\n",
      " [1.58860487e-03 0.00000000e+00 1.12962958e-02 ... 3.57287808e-03\n",
      "  1.00000000e+00 2.76543703e-03]\n",
      " [2.41027730e-04 1.51333044e-03 8.35699488e-03 ... 7.82787935e-04\n",
      "  2.76543703e-03 1.00000000e+00]]\n"
     ]
    }
   ],
   "source": [
    "print(cosine_sim.shape)\n",
    "indices = pd.Series([i for i in range(len(df))] ,index=df['title'])\n",
    "print(indices.head(10))\n",
    "print(indices.shape)\n",
    "print(cosine_sim)"
   ]
  },
  {
   "cell_type": "code",
   "execution_count": 74,
   "metadata": {},
   "outputs": [],
   "source": [
    "def get_recommendations(title, no_of_recommendation):\n",
    "    idx = indices[title]\n",
    "    df['similarity score'] = np.array(cosine_sim[idx])\n",
    "    df['weightedRating'] = (((df[\"rating\"] -  1)/4) + (df[\"likedPercent\"] * 0.01) + ((df['numRatings'] - df['numRatings'].min()) / (df['numRatings'].max() - df['numRatings'].min())))/3\n",
    "    sim_scores = list(enumerate(cosine_sim[idx]))\n",
    "    sim_scores = sorted(sim_scores, key=lambda x: x[1], reverse=True)\n",
    "    sim_scores = sim_scores[1:no_of_recommendation+1]\n",
    "    book_indices = [i[0] for i in sim_scores]\n",
    "    book_cossim = df[[\"title\", \"similarity score\", \"weightedRating\"]].iloc[book_indices]\n",
    "    book_cossim = book_cossim.sort_values(\"weightedRating\", ascending=False)\n",
    "    return book_cossim"
   ]
  },
  {
   "cell_type": "code",
   "execution_count": 75,
   "metadata": {},
   "outputs": [
    {
     "name": "stdout",
     "output_type": "stream",
     "text": [
      "The Midnight Ride of Paul Revere\n"
     ]
    },
    {
     "data": {
      "text/html": [
       "<div>\n",
       "<style scoped>\n",
       "    .dataframe tbody tr th:only-of-type {\n",
       "        vertical-align: middle;\n",
       "    }\n",
       "\n",
       "    .dataframe tbody tr th {\n",
       "        vertical-align: top;\n",
       "    }\n",
       "\n",
       "    .dataframe thead th {\n",
       "        text-align: right;\n",
       "    }\n",
       "</style>\n",
       "<table border=\"1\" class=\"dataframe\">\n",
       "  <thead>\n",
       "    <tr style=\"text-align: right;\">\n",
       "      <th></th>\n",
       "      <th>title</th>\n",
       "      <th>similarity score</th>\n",
       "      <th>weightedRating</th>\n",
       "    </tr>\n",
       "  </thead>\n",
       "  <tbody>\n",
       "    <tr>\n",
       "      <th>32319</th>\n",
       "      <td>Dante's Divine Comedy: Inferno</td>\n",
       "      <td>0.028903</td>\n",
       "      <td>0.615001</td>\n",
       "    </tr>\n",
       "    <tr>\n",
       "      <th>1413</th>\n",
       "      <td>The Raven</td>\n",
       "      <td>0.034137</td>\n",
       "      <td>0.604298</td>\n",
       "    </tr>\n",
       "    <tr>\n",
       "      <th>18767</th>\n",
       "      <td>As Long as We Both Shall Live</td>\n",
       "      <td>0.049020</td>\n",
       "      <td>0.595914</td>\n",
       "    </tr>\n",
       "    <tr>\n",
       "      <th>20647</th>\n",
       "      <td>The Love Letter</td>\n",
       "      <td>0.038597</td>\n",
       "      <td>0.569302</td>\n",
       "    </tr>\n",
       "    <tr>\n",
       "      <th>8104</th>\n",
       "      <td>An Absolutely Remarkable Thing</td>\n",
       "      <td>0.033788</td>\n",
       "      <td>0.565808</td>\n",
       "    </tr>\n",
       "    <tr>\n",
       "      <th>39984</th>\n",
       "      <td>The Organ Grinders</td>\n",
       "      <td>0.030040</td>\n",
       "      <td>0.550872</td>\n",
       "    </tr>\n",
       "    <tr>\n",
       "      <th>31959</th>\n",
       "      <td>Best Kept Secret</td>\n",
       "      <td>0.045759</td>\n",
       "      <td>0.542834</td>\n",
       "    </tr>\n",
       "    <tr>\n",
       "      <th>47471</th>\n",
       "      <td>Five Smooth Stones : Hope's Diary, Philadelphi...</td>\n",
       "      <td>0.029414</td>\n",
       "      <td>0.538377</td>\n",
       "    </tr>\n",
       "    <tr>\n",
       "      <th>7610</th>\n",
       "      <td>In Our Time</td>\n",
       "      <td>0.050948</td>\n",
       "      <td>0.536288</td>\n",
       "    </tr>\n",
       "    <tr>\n",
       "      <th>17698</th>\n",
       "      <td>Tender Buttons</td>\n",
       "      <td>0.031665</td>\n",
       "      <td>0.504538</td>\n",
       "    </tr>\n",
       "  </tbody>\n",
       "</table>\n",
       "</div>"
      ],
      "text/plain": [
       "                                                   title  similarity score  \\\n",
       "32319                     Dante's Divine Comedy: Inferno          0.028903   \n",
       "1413                                           The Raven          0.034137   \n",
       "18767                      As Long as We Both Shall Live          0.049020   \n",
       "20647                                    The Love Letter          0.038597   \n",
       "8104                      An Absolutely Remarkable Thing          0.033788   \n",
       "39984                                 The Organ Grinders          0.030040   \n",
       "31959                                   Best Kept Secret          0.045759   \n",
       "47471  Five Smooth Stones : Hope's Diary, Philadelphi...          0.029414   \n",
       "7610                                         In Our Time          0.050948   \n",
       "17698                                     Tender Buttons          0.031665   \n",
       "\n",
       "       weightedRating  \n",
       "32319        0.615001  \n",
       "1413         0.604298  \n",
       "18767        0.595914  \n",
       "20647        0.569302  \n",
       "8104         0.565808  \n",
       "39984        0.550872  \n",
       "31959        0.542834  \n",
       "47471        0.538377  \n",
       "7610         0.536288  \n",
       "17698        0.504538  "
      ]
     },
     "execution_count": 75,
     "metadata": {},
     "output_type": "execute_result"
    }
   ],
   "source": [
    "print(df['title'].iloc[0])\n",
    "get_recommendations(df['title'].iloc[0], 10)"
   ]
  }
 ],
 "metadata": {
  "kernelspec": {
   "display_name": "Python 3.9.7 ('base')",
   "language": "python",
   "name": "python3"
  },
  "language_info": {
   "codemirror_mode": {
    "name": "ipython",
    "version": 3
   },
   "file_extension": ".py",
   "mimetype": "text/x-python",
   "name": "python",
   "nbconvert_exporter": "python",
   "pygments_lexer": "ipython3",
   "version": "3.9.7"
  },
  "orig_nbformat": 4,
  "vscode": {
   "interpreter": {
    "hash": "ad2bdc8ecc057115af97d19610ffacc2b4e99fae6737bb82f5d7fb13d2f2c186"
   }
  }
 },
 "nbformat": 4,
 "nbformat_minor": 2
}
