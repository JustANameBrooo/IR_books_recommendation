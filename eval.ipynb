{
 "cells": [
  {
   "cell_type": "code",
   "execution_count": 60,
   "metadata": {},
   "outputs": [],
   "source": [
    "import numpy as np\n",
    "import pandas as pd\n",
    "import re\n",
    "from ast import literal_eval"
   ]
  },
  {
   "cell_type": "code",
   "execution_count": 61,
   "metadata": {},
   "outputs": [
    {
     "name": "stdout",
     "output_type": "stream",
     "text": [
      "['The Great Gatsby', '1984', 'The Hunger Games', 'The Catcher in the Rye', 'Animal Farm', \"Harry Potter and the Sorcerer's Stone\", 'Lord of the Flies', 'Of Mice and Men', 'Twilight', 'The Fault in Our Stars', 'Pride and Prejudice', 'The Diary of a Young Girl', 'Divergent', 'Romeo and Juliet', 'The Giver', 'Fahrenheit 451', 'The Kite Runner', 'The Help', 'The Hobbit', 'The Book Thief']\n"
     ]
    }
   ],
   "source": [
    "df = pd.read_csv(r'.\\small_eval.csv', index_col=False)\n",
    "# df = df.head(10)\n",
    "print(df['recommended'].iloc[2])"
   ]
  },
  {
   "cell_type": "code",
   "execution_count": 62,
   "metadata": {},
   "outputs": [
    {
     "name": "stdout",
     "output_type": "stream",
     "text": [
      "[\"'Divergent'\", \"'Twilight'\", '\"Harry Potter and the Sorcerer\\'s Stone\"', \"'The Fault in Our Stars'\", \"'To Kill a Mockingbird'\", \"'The Lightning Thief'\", \"'The Maze Runner'\", \"'The Great Gatsby'\", \"'The Giver'\", \"'The Hobbit'\", \"'Harry Potter and the Prisoner of Azkaban'\", \"'Fifty Shades of Grey'\", \"'Pride and Prejudice'\", \"'The Lion\", \"the Witch and the Wardrobe'\", \"'Paper Towns'\", \"'The Diary of a Young Girl'\", \"'The Selection'\", \"'1984'\", \"'The Help'\", \"'Insurgent'\"]\n",
      "21\n",
      "[\"'Harry Potter and the Cursed Child: Parts One and Two'\", \"'Mockingjay'\", \"'Catching Fire'\", \"'Breaking Dawn'\", \"'The Sea of Monsters'\", \"'New Moon'\", \"'The Hunger Games'\", \"'The Lightning Thief'\", '\"The Titan\\'s Curse\"', \"'Eclipse'\", \"'The Last Olympian'\", \"'The Battle of the Labyrinth'\", \"'The Chronicles of Narnia'\", \"'Fantastic Beasts and Where to Find Them'\", \"'Insurgent'\", \"'The Da Vinci Code'\", \"'Harry Potter and the Chamber of Secrets: Sheet Music for Flute with CD'\", \"'The Two Towers'\", \"'Allegiant'\", \"'Quidditch Through the Ages'\"]\n",
      "20\n",
      "[\"'The Great Gatsby'\", \"'1984'\", \"'The Hunger Games'\", \"'The Catcher in the Rye'\", \"'Animal Farm'\", '\"Harry Potter and the Sorcerer\\'s Stone\"', \"'Lord of the Flies'\", \"'Of Mice and Men'\", \"'Twilight'\", \"'The Fault in Our Stars'\", \"'Pride and Prejudice'\", \"'The Diary of a Young Girl'\", \"'Divergent'\", \"'Romeo and Juliet'\", \"'The Giver'\", \"'Fahrenheit 451'\", \"'The Kite Runner'\", \"'The Help'\", \"'The Hobbit'\", \"'The Book Thief'\"]\n",
      "20\n",
      "[\"'Jane Eyre'\", \"'The Great Gatsby'\", \"'Twilight'\", '\"Harry Potter and the Sorcerer\\'s Stone\"', \"'Wuthering Heights'\", \"'Little Women'\", \"'The Fault in Our Stars'\", \"'To Kill a Mockingbird'\", \"'The Hunger Games'\", \"'Romeo and Juliet'\", \"'Divergent'\", \"'1984'\", \"'Animal Farm'\", \"'Fifty Shades of Grey'\", \"'The Diary of a Young Girl'\", \"'The Picture of Dorian Gray'\", \"'The Catcher in the Rye'\", \"'The Little Prince'\", \"'Harry Potter and the Prisoner of Azkaban'\", \"'The Hobbit'\"]\n",
      "20\n",
      "[\"'The Hunger Games'\", '\"Harry Potter and the Sorcerer\\'s Stone\"', \"'The Fault in Our Stars'\", \"'Fifty Shades of Grey'\", \"'Divergent'\", \"'Pride and Prejudice'\", \"'To Kill a Mockingbird'\", \"'The Notebook'\", \"'Catching Fire'\", \"'The Great Gatsby'\", \"'Harry Potter and the Prisoner of Azkaban'\", \"'The Diary of a Young Girl'\", \"'The Lightning Thief'\", \"'The Twilight Saga - New Moon: Music from the Motion Picture Soundtrack'\", \"'The Twilight Saga: Eclipse'\", '\"To All the Boys I\\'ve Loved Before\"', \"'The Hobbit'\", \"'The Lion\", \"the Witch and the Wardrobe'\", \"'Mockingjay'\", \"'Twilight: The Complete Illustrated Movie Companion'\"]\n",
      "21\n",
      "[\"'All the Light We Cannot See'\", \"'To Kill a Mockingbird'\", \"'The Kite Runner'\", \"'The Help'\", \"'The Hunger Games'\", \"'The Fault in Our Stars'\", \"'The Great Gatsby'\", \"'The Giver'\", \"'The Boy in the Striped Pajamas'\", '\"Harry Potter and the Sorcerer\\'s Stone\"', \"'Divergent'\", \"'Life of Pi'\", \"'The Perks of Being a Wallflower'\", \"'Looking for Alaska'\", \"'A Thousand Splendid Suns'\", \"'Pride and Prejudice'\", \"'Of Mice and Men'\", \"'1984'\", \"'Paper Towns'\", \"'The Lightning Thief'\"]\n",
      "20\n",
      "[\"'The Great Gatsby'\", \"'To Kill a Mockingbird'\", \"'Lord of the Flies'\", \"'The Catcher in the Rye'\", \"'Fahrenheit 451'\", \"'Of Mice and Men'\", \"'Romeo and Juliet'\", \"'Brave New World'\", \"'Pride and Prejudice'\", \"'The Little Prince'\", \"'The Metamorphosis'\", '\"Harry Potter and the Sorcerer\\'s Stone\"', \"'The Picture of Dorian Gray'\", \"'The Hunger Games'\", \"'The Alchemist'\", \"'The Old Man and the Sea'\", \"'The Hobbit'\", \"'Jane Eyre'\", \"'The Diary of a Young Girl'\", \"'The Stranger'\"]\n",
      "20\n",
      "[\"'J.R.R. Tolkien 4-Book Boxed Set: The Hobbit and The Lord of the Rings'\", \"'The Lord of the Rings'\", \"'Harry Potter and the Order of the Phoenix'\", \"'Harry Potter and the Deathly Hallows'\", '\"Alice\\'s Adventures in Wonderland / Through the Looking-Glass\"', \"'Harry Potter and the Goblet of Fire'\", \"'Harry Potter and the Half-Blood Prince'\", \"'Harry Potter and the Chamber of Secrets'\", \"'Harry Potter and the Prisoner of Azkaban'\", \"'The Da Vinci Code'\", \"'The Return of the King'\", \"'The Da Vinci Code'\", \"'The Little House Collection'\", \"'The Two Towers'\", '\"Charlotte\\'s Web\"', \"'Harry Potter and the Cursed Child: Parts One and Two'\", \"'The Secret Garden'\", \"'The Adventures of Huckleberry Finn'\", \"'The Giving Tree'\", \"'Romeo and Juliet'\"]\n",
      "20\n",
      "[\"'The Chronicles of Narnia'\", '\"The Belgariad Boxed Set: Pawn of Prophecy / Queen of Sorcery / Magician\\'s Gambit / Castle of Wizardry / Enchanters\\' End Game\"', \"'His Dark Materials'\", \"'The Hunger Games Trilogy Boxset'\", '\"Alice\\'s Adventures in Wonderland / Through the Looking-Glass\"', \"'Harry Potter Series Box Set'\", \"'Harry Potter and the Order of the Phoenix'\", \"'The Da Vinci Code'\", '\"The Dark Elf Trilogy Collector\\'s Edition\"', \"'The Harry Potter Collection 1-4'\", \"'Circa'\", \"'Westworld'\", \"'Dragonlance Chronicles'\", \"'The Chronicles of Thomas Covenant\", \"the Unbeliever'\", \"'Seluas Langit Biru'\", \"'Putri Hujan & Ksatria Malam'\", \"'The Sword of Shannara Trilogy'\", \"'Pesan dari Bintang'\", \"'Lukisan Hujan'\", \"'The Earthsea Trilogy'\", \"'The Night Angel Trilogy'\", \"'A Song of Ice and Fire'\", \"'The Adventures of Sherlock Holmes'\", \"'The Hobbit'\", \"'The Tides of Reckoning'\", \"'WIL O WISH'\", \"'A Game of Thrones'\", \"'The Dragonriders of Pern'\", \"'Harry Potter and the Deathly Hallows'\", \"'Gone with the Wind'\"]\n",
      "31\n",
      "[\"'Scarlett'\", \"'Memoirs of a Geisha'\", \"'Girl with a Pearl Earring'\", \"'Little Women'\", \"'The Help'\", \"'Wuthering Heights'\", \"'Una Historia de Ayer'\", \"'Jane Eyre'\", \"'To Kill a Mockingbird'\", \"'Water for Elephants'\", \"'Pride and Prejudice'\", \"'Les Misérables'\", \"'Sense and Sensibility'\", \"'The Thorn Birds'\", \"'Anna Karenina'\", \"'Outlander'\", \"'The Great Gatsby'\", \"'The Kite Runner'\", \"'The Diary of a Young Girl'\", \"'Romeo and Juliet'\"]\n",
      "20\n",
      "[\"'The Hunger Games'\", \"'Twilight'\", \"'Divergent'\", '\"Harry Potter and the Sorcerer\\'s Stone\"', \"'Fifty Shades of Grey'\", '\"To All the Boys I\\'ve Loved Before\"', \"'To Kill a Mockingbird'\", \"'Pride and Prejudice'\", \"'The Great Gatsby'\", \"'Eleanor & Park'\", \"'Me Before You'\", \"'Catching Fire'\", \"'The Diary of a Young Girl'\", \"'The Perks of Being a Wallflower'\", \"'The Notebook'\", \"'If I Stay'\", \"'Everything\", \"Everything'\", \"'It Ends with Us'\", \"'The Selection'\", \"'The Lightning Thief'\"]\n",
      "21\n",
      "['\"Ender\\'s Game\"', \"'The Hobbit'\", \"'Dune'\", \"'The Martian'\", \"'Time Is Irreverent'\", \"'1984'\", \"'Ready Player One'\", \"'A Game of Thrones'\", \"'The Fellowship of the Ring'\", \"'Foundation'\", \"'Quantum Roots'\", \"'Fahrenheit 451'\", \"'Secret Squirrels'\", \"'Battlefield Earth: A Saga of the Year 3000'\", \"'The Lord of the Rings: The Art of the Fellowship of the Ring'\", \"'Brave New World'\", '\"Harry Potter and the Sorcerer\\'s Stone\"', \"'Good Omens: The Nice and Accurate Prophecies of Agnes Nutter\", \"Witch'\", \"'Animal Farm'\", \"'Futuristic Violence and Fancy Suits'\"]\n",
      "21\n",
      "[\"'Where the Wild Things Are'\", \"'Green Eggs and Ham'\", '\"Charlotte\\'s Web\"', \"'The Cat in the Hat'\", \"'The Very Hungry Caterpillar'\", '\"Oh', 'the Places You\\'ll Go!\"', \"'Diary of a Wimpy Kid'\", \"'Matilda'\", \"'Goodnight Moon'\", \"'If You Give a Mouse a Cookie'\", \"'How the Grinch Stole Christmas!'\", \"'Pete the Cat: I Love My White Shoes'\", \"'The Lorax'\", \"'Brown Bear\", 'Brown Bear', \"What Do You See?'\", \"'The Rainbow Fish'\", \"'Corduroy'\", \"'One Fish\", 'Two Fish', 'Red Fish', \"Blue Fish'\", \"'Love You Forever'\", \"'Chicka Chicka Boom Boom'\", \"'Are You My Mother?'\"]\n",
      "26\n",
      "[\"'Jane Eyre'\", \"'Pride and Prejudice'\", \"'Sense and Sensibility'\", \"'Little Women'\", \"'The Picture of Dorian Gray'\", \"'The Great Gatsby'\", \"'Emma'\", \"'Romeo and Juliet'\", \"'Frankenstein: The 1818 Text'\", \"'1984'\", \"'The Catcher in the Rye'\", \"'To Kill a Mockingbird'\", \"'Animal Farm'\", \"'Persuasion'\", \"'Great Expectations'\", \"'Anna Karenina'\", \"'The Little Prince'\", \"'Of Mice and Men'\", \"'Lord of the Flies'\", \"'Dracula'\", \"'Gone with the Wind'\", \"'A Tale of Two Cities'\", \"'The Metamorphosis'\", \"'The Scarlet Letter'\", \"'Hamlet'\", \"'Northanger Abbey'\", \"'Crime and Punishment'\", \"'Fahrenheit 451'\", \"'Twilight'\", \"'The Adventures of Tom Sawyer'\"]\n",
      "30\n",
      "[\"'Harry Potter and the Prisoner of Azkaban'\", \"'The Girl with the Dragon Tattoo'\", \"'Harry Potter and the Chamber of Secrets'\", \"'The Alchemist'\", '\"Harry Potter and the Sorcerer\\'s Stone\"', \"'Harry Potter and the Deathly Hallows'\", \"'The Kite Runner'\", \"'Harry Potter and the Goblet of Fire'\", \"'Memoirs of a Geisha'\", \"'Harry Potter and the Order of the Phoenix'\", \"'Catching Fire'\", \"'Harry Potter and the Half-Blood Prince'\", \"'The Fellowship of the Ring'\", \"'The Girl Who Played with Fire'\", \"'To Kill a Mockingbird'\", \"'Pride and Prejudice'\", \"'The Hobbit'\", \"'The Girl on the Train'\", \"'1984'\", \"'Life of Pi'\"]\n",
      "20\n",
      "[\"'The Help'\", \"'The Kite Runner'\", \"'Water for Elephants'\", \"'Girl with a Pearl Earring'\", \"'The Lovely Bones'\", '\"The Time Traveler\\'s Wife\"', \"'The Girl with the Dragon Tattoo'\", \"'Life of Pi'\", \"'Gone with the Wind'\", '\"Eat', 'Pray', \"Love: One Woman's Search for Everything Across Italy\", 'India and Indonesia\"', \"'Angels & Demons'\", \"'The Da Vinci Code'\", \"'A Thousand Splendid Suns'\", \"'The Girl on the Train'\", \"'The Red Tent'\", \"'Gone Girl'\", \"'To Kill a Mockingbird'\", \"'The Book Thief'\", \"'The Secret Life of Bees'\", \"'All the Light We Cannot See'\"]\n",
      "23\n",
      "[\"'Wuthering Heights'\", \"'Frankenstein: The 1818 Text'\", \"'The Metamorphosis'\", \"'Animal Farm'\", \"'Jane Eyre'\", \"'The Great Gatsby'\", \"'Pride and Prejudice'\", \"'1984'\", \"'The Little Prince'\", \"'Crime and Punishment'\", \"'The Catcher in the Rye'\", \"'Dr. Jekyll and Mr. Hyde'\", \"'Romeo and Juliet'\", \"'The Bell Jar'\", \"'Little Women'\", \"'Dracula'\", \"'The Stranger'\", \"'The Secret History'\", \"'Lolita'\", \"'Fahrenheit 451'\", \"'Lord of the Flies'\", \"'The Old Man and the Sea'\", \"'Hamlet'\", \"'Of Mice and Men'\", \"'The Song of Achilles'\", \"'Emma'\", \"'Anna Karenina'\", \"'Sense and Sensibility'\", \"'Brave New World'\", \"'Macbeth'\"]\n",
      "30\n",
      "[\"'Alice in Wonderland'\", \"'The Chronicles of Narnia'\", \"'The Wonderful Wizard of Oz'\", \"'Peter Pan'\", \"'The Adventures of Huckleberry Finn'\", \"'The Little Prince'\", \"'The Secret Garden'\", \"'The Picture of Dorian Gray'\", \"'The Tale of Peter Rabbit'\", \"'Romeo and Juliet'\", \"'J.R.R. Tolkien 4-Book Boxed Set: The Hobbit and The Lord of the Rings'\", '\"A Midsummer Night\\'s Dream\"', \"'The Lord of the Rings'\", \"'The Adventures of Tom Sawyer'\", \"'Winnie-the-Pooh'\", \"'Anne of Green Gables'\", '\"Charlotte\\'s Web\"', \"'A Christmas Carol'\", \"'Frankenstein: The 1818 Text'\", \"'Charlie and the Chocolate Factory'\", \"'Oliver Twist'\", \"'Little Women'\", \"'Matilda'\", \"'Macbeth'\", \"'The Odyssey'\", \"'Hamlet'\", \"'Harry Potter and the Order of the Phoenix'\", \"'Dr. Jekyll and Mr. Hyde'\", \"'Brave New World / Brave New World Revisited'\", \"'Treasure Island'\"]\n",
      "30\n",
      "[\"'Wuthering Heights'\", \"'Pride and Prejudice'\", \"'Sense and Sensibility'\", \"'Little Women'\", \"'Emma'\", \"'The Great Gatsby'\", \"'The Picture of Dorian Gray'\", \"'Romeo and Juliet'\", \"'To Kill a Mockingbird'\", \"'Animal Farm'\", \"'Persuasion'\", \"'Frankenstein: The 1818 Text'\", \"'1984'\", \"'The Catcher in the Rye'\", \"'Great Expectations'\", \"'Anna Karenina'\", \"'Of Mice and Men'\", \"'The Little Prince'\", \"'Lord of the Flies'\", \"'Northanger Abbey'\"]\n",
      "20\n",
      "[\"'The Little Prince'\", \"'The Count of Monte Cristo'\", \"'Anna Karenina'\", \"'Crime and Punishment'\", \"'The Adventures of Tom Sawyer'\", \"'A Tale of Two Cities'\", \"'Romeo and Juliet'\", \"'The Odyssey'\", \"'Gone with the Wind'\", \"'Wuthering Heights'\", \"'Hamlet'\", \"'Little Women'\", \"'Great Expectations'\", \"'Jane Eyre'\", \"'The Old Man and the Sea'\", \"'Animal Farm'\", \"'Pride and Prejudice'\", \"'The Picture of Dorian Gray'\", \"'The Metamorphosis'\", \"'1984'\"]\n",
      "20\n",
      "[\"'1984'\", \"'Animal Farm'\", \"'Lord of the Flies'\", \"'The Great Gatsby'\", \"'Brave New World'\", \"'To Kill a Mockingbird'\", \"'The Catcher in the Rye'\", \"'Of Mice and Men'\", \"'The Giver'\", \"'Romeo and Juliet'\", \"'The Hunger Games'\", \"'The Metamorphosis'\", \"'Slaughterhouse-Five'\", \"'The Outsiders'\", \"'The Hobbit'\", \"'The Little Prince'\", '\"The Hitchhiker\\'s Guide to the Galaxy\"', \"'The Picture of Dorian Gray'\", \"'Frankenstein: The 1818 Text'\", '\"Harry Potter and the Sorcerer\\'s Stone\"']\n",
      "20\n",
      "[\"'The Hunger Games'\", \"'The Fault in Our Stars'\", \"'Twilight'\", \"'Catching Fire'\", '\"Harry Potter and the Sorcerer\\'s Stone\"', \"'The Maze Runner'\", \"'Mockingjay'\", \"'The Lightning Thief'\", \"'The Selection'\", \"'Harry Potter and the Prisoner of Azkaban'\", \"'The Giver'\", \"'Paper Towns'\", \"'To Kill a Mockingbird'\", \"'City of Bones'\", \"'Fifty Shades of Grey'\", \"'Allegiant: The Ultimate Interactive Quiz Book'\", \"'Pride and Prejudice'\", \"'Divergent Official Illustrated Movie Companion'\", '\"To All the Boys I\\'ve Loved Before\"', \"'The Lion\", \"the Witch and the Wardrobe'\"]\n",
      "21\n",
      "[\"'Of Mice and Men'\", \"'To Kill a Mockingbird'\", \"'Animal Farm'\", \"'The Catcher in the Rye'\", \"'The Great Gatsby'\", \"'Fahrenheit 451'\", \"'1984'\", \"'Romeo and Juliet'\", \"'The Giver'\", \"'Brave New World'\", \"'The Hunger Games'\", \"'The Outsiders'\", \"'Frankenstein: The 1818 Text'\", '\"Harry Potter and the Sorcerer\\'s Stone\"', \"'Macbeth'\", \"'The Hobbit'\", \"'The Kite Runner'\", \"'The Picture of Dorian Gray'\", \"'The Odyssey'\", \"'Pride and Prejudice'\"]\n",
      "20\n",
      "[\"'Of Mice and Men'\", \"'To Kill a Mockingbird'\", \"'The Great Gatsby'\", \"'Lord of the Flies'\", \"'The Odyssey'\", \"'Pride and Prejudice'\", \"'Animal Farm'\", \"'Little Women'\", \"'The Little Prince'\", \"'The Diary of a Young Girl'\", \"'The Catcher in the Rye'\", \"'The Fault in Our Stars'\", \"'Twilight'\", \"'The Outsiders'\", \"'The Hunger Games'\", '\"Harry Potter and the Sorcerer\\'s Stone\"', \"'Fahrenheit 451'\", \"'Wuthering Heights'\", \"'Jane Eyre'\", \"'Frankenstein: The 1818 Text'\"]\n",
      "20\n",
      "[\"'The Subtle Art of Not Giving a F*ck: A Counterintuitive Approach to Living a Good Life'\", \"'The Secret'\", \"'1984'\", \"'The Kite Runner'\", \"'The Little Prince'\", \"'Animal Farm'\", \"'To Kill a Mockingbird'\", \"'The Great Gatsby'\", \"'The Power of Now: A Guide to Spiritual Enlightenment'\", \"'The Catcher in the Rye'\", \"'How to Win Friends and Influence People'\", \"'The Da Vinci Code'\", \"'Sapiens: A Brief History of Humankind'\", \"'The Four Agreements: A Practical Guide to Personal Freedom'\", \"'The Diary of a Young Girl'\", \"'Life of Pi'\", '\"Harry Potter and the Sorcerer\\'s Stone\"', '\"Eat', 'Pray', \"Love: One Woman's Search for Everything Across Italy\", 'India and Indonesia\"', \"'Pride and Prejudice'\", \"'Angels & Demons'\", \"'Rich Dad\", \"Poor Dad'\", \"'The Fault in Our Stars'\", \"'Siddhartha'\", \"'Fahrenheit 451'\", \"'Atomic Habits: An Easy & Proven Way to Build Good Habits & Break Bad Ones'\", '\"Man\\'s Search for Meaning\"', \"'Lord of the Flies'\", \"'A Thousand Splendid Suns'\", \"'The Metamorphosis'\", \"'The Old Man and the Sea'\"]\n",
      "34\n",
      "[\"'Anna Karenina'\", \"'The Metamorphosis'\", \"'The Stranger'\", \"'The Picture of Dorian Gray'\", \"'1984'\", \"'The Master and Margarita'\", \"'War and Peace'\", \"'The Old Man and the Sea'\", \"'Animal Farm'\", \"'The Trial'\", \"'Lalka'\", \"'The Little Prince'\", \"'The Wedding'\", \"'One Hundred Years of Solitude'\", \"'Lolita'\", \"'Hamlet'\", \"'Brave New World'\", \"'Les Misérables'\", \"'The Count of Monte Cristo'\", \"'The Catcher in the Rye'\"]\n",
      "20\n",
      "[\"'Looking for Alaska'\", \"'Paper Towns'\", \"'The Fault in Our Stars'\", \"'Eleanor & Park'\", \"'All the Bright Places'\", \"'They Both Die at the End'\", \"'We Were Liars'\", \"'Thirteen Reasons Why'\", \"'Aristotle and Dante Discover the Secrets of the Universe'\", \"'Call Me By Your Name'\", \"'The Hunger Games'\", \"'Turtles All the Way Down'\", \"'The Great Gatsby'\", \"'It Ends with Us'\", \"'The Song of Achilles'\", \"'Heartstopper: Volume One'\", \"'The Catcher in the Rye'\", \"'If I Stay'\", \"'The Outsiders'\", \"'Simon vs. the Homo Sapiens Agenda'\", \"'The Giver'\", \"'One of Us Is Lying'\", \"'Milk and Honey'\", \"'Speak'\", \"'The Hate U Give'\", \"'Normal People'\", \"'Divergent'\", \"'The Seven Husbands of Evelyn Hugo'\", \"'Everything\", \"Everything'\", \"'The Bell Jar'\"]\n",
      "31\n",
      "[\"'To Kill a Mockingbird'\", \"'The Catcher in the Rye'\", \"'1984'\", \"'Animal Farm'\", \"'Pride and Prejudice'\", \"'The Hunger Games'\", '\"Harry Potter and the Sorcerer\\'s Stone\"', \"'Of Mice and Men'\", \"'Lord of the Flies'\", \"'The Fault in Our Stars'\", \"'Fahrenheit 451'\", \"'Romeo and Juliet'\", \"'Twilight'\", \"'Jane Eyre'\", \"'The Giver'\", \"'Wuthering Heights'\", \"'The Diary of a Young Girl'\", \"'Divergent'\", \"'The Hobbit'\", \"'The Kite Runner'\"]\n",
      "20\n",
      "[\"'Divergent'\", \"'City of Bones: The Official Illustrated Movie Companion'\", \"'The Lightning Thief'\", \"'The Hunger Games'\", \"'Twilight'\", \"'The Selection'\", \"'The Maze Runner'\", \"'A Court of Thorns and Roses'\", \"'Hush\", \"Hush'\", \"'Throne of Glass'\", \"'Fallen'\", '\"Harry Potter and the Sorcerer\\'s Stone\"', \"'Red Queen'\", \"'Insurgent'\", \"'Catching Fire'\", \"'Vampire Academy'\", \"'The Fault in Our Stars'\", \"'New Moon'\", \"'The Host'\", \"'The Cruel Prince'\", \"'Eragon'\", \"'Mockingjay'\", \"'Shadow and Bone'\", \"'Cinder'\", \"'Six of Crows'\", \"'Eclipse'\", \"'Fifty Shades of Grey'\", \"'Beautiful Creatures'\", \"'Breaking Dawn'\", \"'SAMPLER ONLY: Catching Fire'\"]\n",
      "31\n",
      "['\"The Hitchhiker\\'s Guide to the Galaxy\"', \"'Dune'\", \"'Ready Player One'\", \"'The Martian'\", \"'The Hobbit'\", \"'Foundation'\", \"'The Lord of the Rings: The Art of the Fellowship of the Ring'\", \"'A Game of Thrones'\", \"'Eragon'\", \"'Jurassic Park'\", '\"Orson Scott Card\\'s Speaker For the Dead #2\"', \"'The Fellowship of the Ring'\", \"'Fahrenheit 451'\", \"'1984'\", \"'The Lord of the Rings: The Two Towers'\", \"'Operation Hail Storm'\", \"'Do Androids Dream of Electric Sheep?'\", \"'Stranger in a Strange Land'\", '\"Ender\\'s Game', 'Volume 1: Battle School\"', \"'The Hunger Games'\"]\n",
      "21\n"
     ]
    }
   ],
   "source": [
    "for i in range(30):\n",
    "    x = str(df['recommended'].iloc[i])[1:-1]\n",
    "    thelist = x.split(',')\n",
    "    result = []\n",
    "    for y in thelist:\n",
    "        result.append(y.strip())\n",
    "\n",
    "        \n",
    "    print(result)\n",
    "    print(len(result))"
   ]
  },
  {
   "cell_type": "code",
   "execution_count": 63,
   "metadata": {},
   "outputs": [
    {
     "name": "stdout",
     "output_type": "stream",
     "text": [
      "0     [Divergent, Twilight, Harry Potter and the Sor...\n",
      "1     [Harry Potter and the Cursed Child: Parts One ...\n",
      "2     [The Great Gatsby, 1984, The Hunger Games, The...\n",
      "3     [Jane Eyre, The Great Gatsby, Twilight, Harry ...\n",
      "4     [The Hunger Games, Harry Potter and the Sorcer...\n",
      "5     [All the Light We Cannot See, To Kill a Mockin...\n",
      "6     [The Great Gatsby, To Kill a Mockingbird, Lord...\n",
      "7     [J.R.R. Tolkien 4-Book Boxed Set: The Hobbit a...\n",
      "8     [The Chronicles of Narnia, The Belgariad Boxed...\n",
      "9     [Scarlett, Memoirs of a Geisha, Girl with a Pe...\n",
      "10    [The Hunger Games, Twilight, Divergent, Harry ...\n",
      "11    [Ender's Game, The Hobbit, Dune, The Martian, ...\n",
      "12    [Where the Wild Things Are, Green Eggs and Ham...\n",
      "13    [Jane Eyre, Pride and Prejudice, Sense and Sen...\n",
      "14    [Harry Potter and the Prisoner of Azkaban, The...\n",
      "15    [The Help, The Kite Runner, Water for Elephant...\n",
      "16    [Wuthering Heights, Frankenstein: The 1818 Tex...\n",
      "17    [Alice in Wonderland, The Chronicles of Narnia...\n",
      "18    [Wuthering Heights, Pride and Prejudice, Sense...\n",
      "19    [The Little Prince, The Count of Monte Cristo,...\n",
      "20    [1984, Animal Farm, Lord of the Flies, The Gre...\n",
      "21    [The Hunger Games, The Fault in Our Stars, Twi...\n",
      "22    [Of Mice and Men, To Kill a Mockingbird, Anima...\n",
      "23    [Of Mice and Men, To Kill a Mockingbird, The G...\n",
      "24    [The Subtle Art of Not Giving a F*ck: A Counte...\n",
      "25    [Anna Karenina, The Metamorphosis, The Strange...\n",
      "26    [Looking for Alaska, Paper Towns, The Fault in...\n",
      "27    [To Kill a Mockingbird, The Catcher in the Rye...\n",
      "28    [Divergent, City of Bones: The Official Illust...\n",
      "29    [The Hitchhiker's Guide to the Galaxy, Dune, R...\n",
      "Name: recommended, dtype: object\n",
      "20\n",
      "20\n",
      "20\n",
      "20\n",
      "20\n",
      "20\n",
      "20\n",
      "20\n",
      "30\n",
      "20\n",
      "20\n",
      "20\n",
      "20\n",
      "30\n",
      "20\n",
      "20\n",
      "30\n",
      "30\n",
      "20\n",
      "20\n",
      "20\n",
      "20\n",
      "20\n",
      "20\n",
      "30\n",
      "20\n",
      "30\n",
      "20\n",
      "30\n",
      "20\n"
     ]
    }
   ],
   "source": [
    "df['recommended'] = df['recommended'].apply(literal_eval)\n",
    "print(df['recommended'])\n",
    "for i in range(30):\n",
    "    print(len(df['recommended'].iloc[i]))\n"
   ]
  },
  {
   "cell_type": "code",
   "execution_count": 64,
   "metadata": {},
   "outputs": [],
   "source": [
    "def precisionatk(r,k=20): # precision is relevant&retrieved/retrieved\n",
    "    assert k >= 1\n",
    "    r = np.asarray(r)[:k] != 0\n",
    "    if r.size != k:\n",
    "        raise ValueError('Relevance score length < k')\n",
    "    return np.mean(r)\n",
    "\n",
    "def average_precision(r):\n",
    "    totalp=0.0\n",
    "    count = 0.0\n",
    "    for i in range(len(r)):\n",
    "        if r[i] == 1:\n",
    "            totalp+=precisionatk(r,i+1)\n",
    "            count+=1.0\n",
    "    if count==0.0: return 0.0\n",
    "    avg_p = totalp/count\n",
    "    return avg_p\n",
    "\n",
    "def mean_average_precision(rs):\n",
    "    totalp = 0.0\n",
    "    for r in rs:\n",
    "        totalp+= average_precision(r)\n",
    "    m_avg_p = totalp/len(rs)\n",
    "\n",
    "    return m_avg_p"
   ]
  },
  {
   "cell_type": "code",
   "execution_count": 65,
   "metadata": {},
   "outputs": [],
   "source": [
    "def dcg_at_k(r, k, method=0):\n",
    "    dcg = 0.0\n",
    "    for i in range(k):\n",
    "        if i==0:\n",
    "            dcg += r[i]\n",
    "        elif i>=len(r):\n",
    "            return dcg\n",
    "        elif r[i] != 0:\n",
    "            dcg += r[i]/log2(i+1)\n",
    "\n",
    "    return dcg\n",
    "\n",
    "def ndcg_at_k(r, k, method=0):\n",
    "    if len(r) ==1:\n",
    "        return r[0]\n",
    "    sorted_r = sorted(r,reverse=True)\n",
    "    # print(sorted_r)\n",
    "    ndcg = []\n",
    "    for i in range(len(sorted_r)):\n",
    "        dcg = dcg_at_k(r,i+1)\n",
    "        idcg= dcg_at_k(sorted_r,i+1)\n",
    "        ndcg.append(dcg/idcg)\n",
    "    # print(ndcg)\n",
    "    \n",
    "    return ndcg[k-1]"
   ]
  },
  {
   "cell_type": "code",
   "execution_count": null,
   "metadata": {},
   "outputs": [],
   "source": []
  }
 ],
 "metadata": {
  "kernelspec": {
   "display_name": "Python 3.9.7 64-bit",
   "language": "python",
   "name": "python3"
  },
  "language_info": {
   "codemirror_mode": {
    "name": "ipython",
    "version": 3
   },
   "file_extension": ".py",
   "mimetype": "text/x-python",
   "name": "python",
   "nbconvert_exporter": "python",
   "pygments_lexer": "ipython3",
   "version": "3.9.7"
  },
  "orig_nbformat": 4,
  "vscode": {
   "interpreter": {
    "hash": "bada9726690d286a47909a62bfde12f42d4027df705c6dd14450e360b34616a7"
   }
  }
 },
 "nbformat": 4,
 "nbformat_minor": 2
}
