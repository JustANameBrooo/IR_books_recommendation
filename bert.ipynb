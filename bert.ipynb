{
 "cells": [
  {
   "cell_type": "code",
   "execution_count": 1,
   "metadata": {},
   "outputs": [],
   "source": [
    "from sentence_transformers import SentenceTransformer, util\n",
    "import pandas as pd\n",
    "from sklearn.metrics.pairwise import cosine_similarity\n",
    "import nltk\n",
    "from nltk.tokenize import word_tokenize\n",
    "import numpy as np\n",
    "import re\n",
    "import torch\n",
    "from ast import literal_eval\n",
    "from evaluation import mean_average_precision,ndcg_at_k\n",
    "# nltk.download('stopwords')"
   ]
  },
  {
   "cell_type": "code",
   "execution_count": 2,
   "metadata": {},
   "outputs": [],
   "source": [
    "df = pd.read_csv(r'.\\booklist.csv', index_col=False, encoding=\"latin-1\")\n",
    "\n",
    "col_names=['bookId','title','series','author','rating','description','lang','isbn','genres','characters','bookForm','edition','pages','publisher','publishDate','firstPublished','awards','numRating','ratingsByStars','likedPercent','setting','coverImg','bbeScore','bbeVotes','price']\n",
    "wanted_cols = ['bookId','title','series','author','rating','description','genres','characters','setting','coverImg']\n",
    "\n",
    "filtered_df = df[wanted_cols].head(5)\n",
    "df = df.head(100)\n",
    "\n",
    "# print(df['description'].iloc[0])\n"
   ]
  },
  {
   "cell_type": "code",
   "execution_count": 3,
   "metadata": {},
   "outputs": [
    {
     "name": "stderr",
     "output_type": "stream",
     "text": [
      "Downloading: 100%|██████████| 737/737 [00:00<00:00, 735kB/s]\n",
      "Downloading: 100%|██████████| 190/190 [00:00<00:00, 190kB/s]\n",
      "Downloading: 100%|██████████| 11.5k/11.5k [00:00<00:00, 5.75MB/s]\n",
      "Downloading: 100%|██████████| 612/612 [00:00<00:00, 291kB/s]\n",
      "Downloading: 100%|██████████| 116/116 [00:00<00:00, 68.2kB/s]\n",
      "Downloading: 100%|██████████| 25.5k/25.5k [00:00<00:00, 102kB/s] \n",
      "Downloading: 100%|██████████| 90.9M/90.9M [00:03<00:00, 24.2MB/s]\n",
      "Downloading: 100%|██████████| 53.0/53.0 [00:00<00:00, 26.5kB/s]\n",
      "Downloading: 100%|██████████| 112/112 [00:00<00:00, 112kB/s]\n",
      "Downloading: 100%|██████████| 466k/466k [00:01<00:00, 372kB/s]  \n",
      "Downloading: 100%|██████████| 383/383 [00:00<00:00, 192kB/s]\n",
      "Downloading: 100%|██████████| 13.8k/13.8k [00:00<00:00, 54.3kB/s]\n",
      "Downloading: 100%|██████████| 232k/232k [00:00<00:00, 238kB/s]  \n",
      "Downloading: 100%|██████████| 349/349 [00:00<00:00, 190kB/s]\n"
     ]
    },
    {
     "name": "stdout",
     "output_type": "stream",
     "text": [
      "Similarity: tensor([[0.5472, 0.6330]])\n",
      "tensor([[0.5472, 0.6330]])\n"
     ]
    }
   ],
   "source": [
    "#dont run this\n",
    "model = SentenceTransformer('multi-qa-MiniLM-L6-cos-v1')\n",
    "query_embedding = model.encode('How big is London')\n",
    "passage_embedding = model.encode(['London has 9,787,426 inhabitants at the 2011 census',\n",
    "                                  'London is known for its finacial district'])\n",
    "\n",
    "print(\"Similarity:\", util.dot_score(query_embedding, passage_embedding))\n",
    "print(util.cos_sim(query_embedding,passage_embedding))"
   ]
  },
  {
   "cell_type": "code",
   "execution_count": 4,
   "metadata": {},
   "outputs": [
    {
     "name": "stderr",
     "output_type": "stream",
     "text": [
      "Downloading: 100%|██████████| 736/736 [00:00<00:00, 525kB/s]\n",
      "Downloading: 100%|██████████| 190/190 [00:00<00:00, 190kB/s]\n",
      "Downloading: 100%|██████████| 3.68k/3.68k [00:00<00:00, 2.08MB/s]\n",
      "Downloading: 100%|██████████| 627/627 [00:00<00:00, 626kB/s]\n",
      "Downloading: 100%|██████████| 122/122 [00:00<00:00, 65.0kB/s]\n",
      "Downloading: 100%|██████████| 90.9M/90.9M [00:03<00:00, 25.9MB/s]\n",
      "Downloading: 100%|██████████| 53.0/53.0 [00:00<00:00, 53.1kB/s]\n",
      "Downloading: 100%|██████████| 112/112 [00:00<00:00, 56.0kB/s]\n",
      "Downloading: 100%|██████████| 466k/466k [00:01<00:00, 380kB/s]  \n",
      "Downloading: 100%|██████████| 430/430 [00:00<00:00, 189kB/s]\n",
      "Downloading: 100%|██████████| 232k/232k [00:00<00:00, 241kB/s]  \n",
      "Downloading: 100%|██████████| 229/229 [00:00<00:00, 123kB/s]\n"
     ]
    }
   ],
   "source": [
    "#SEMANTIC SEARCH\n",
    "model = SentenceTransformer('msmarco-MiniLM-L-6-v3') #ms marco models for asymmetric semantic search (https://www.sbert.net/examples/applications/semantic-search/README.html)\n",
    "\n",
    "# query_embedding = model.encode('How big is London')\n",
    "# passage_embedding = model.encode('London has 9,787,426 inhabitants at the 2011 census')\n",
    "\n",
    "# print(\"Similarity:\", util.cos_sim(query_embedding, passage_embedding))"
   ]
  },
  {
   "cell_type": "code",
   "execution_count": 5,
   "metadata": {},
   "outputs": [
    {
     "name": "stdout",
     "output_type": "stream",
     "text": [
      "Suzanne Collins Young Adult Fiction Dystopia Fantasy Science Fiction Romance Adventure Teen Post Apocalyptic Action Katniss Everdeen Peeta Mellark Cato (Hunger Games) Primrose Everdeen Gale Hawthorne Effie Trinket Haymitch Abernathy Cinna President Coriolanus Snow Rue Flavius Lavinia (Hunger Games) Marvel Glimmer Clove Foxface Thresh Greasy Sae Madge Undersee Caesar Flickerman Claudius Templesmith Octavia (Hunger Games) Portia (hunger Games) District 12, Panem Capitol, Panem Panem (United States) winning means fame fortune losing means certain death hunger games begun ruins place known north america lies nation panem shining capitol surrounded twelve outlying districts capitol harsh cruel keeps districts line forcing send one boy girl ages twelve eighteen participate annual hunger games fight death live tv sixteen year old katniss everdeen regards death sentence steps forward take sister place games katniss close dead survival second nature without really meaning becomes contender win start making choices weight survival humanity life love\n"
     ]
    }
   ],
   "source": [
    "# x = df['description'].iloc[0]\n",
    "# print(type(x))\n",
    "\n",
    "def clean_and_tokenize(x):\n",
    "    try:\n",
    "        stopwords = nltk.corpus.stopwords.words('english')\n",
    "        d = re.sub(r'[^a-zA-Z0-9\\s]', ' ', x, re.I|re.A)\n",
    "        d = d.lower().strip()\n",
    "        # nltk.download('punkt')\n",
    "        tks = word_tokenize(d)\n",
    "        f_tks = [t for t in tks if t not in stopwords]\n",
    "        return ' '.join(f_tks)\n",
    "    except TypeError:\n",
    "        print(x)\n",
    "        return \"\"\n",
    "\n",
    "df['genres'] = df['genres'].apply(literal_eval)\n",
    "df['characters'] = df['characters'].apply(literal_eval)\n",
    "df['setting'] = df['setting'].apply(literal_eval)\n",
    "df['author'] = df['author'].apply(lambda x : x.split(\", \"))\n",
    "\n",
    "df['soup'] = df['author'] + df['genres'] + df['characters'] + df['setting'] \n",
    "df['soup'] = df['soup'].apply(lambda x: ' '.join(x))\n",
    "df['description'] = df['description'].apply(lambda x : clean_and_tokenize(str(x)))\n",
    "df['soup'] = df['soup'] + \" \" + df['description']\n",
    "print(df['soup'].iloc[0])\n",
    "\n",
    "# print(df['soup'].to_numpy())\n",
    "np_df = df['soup'].to_numpy()\n",
    "# v_clean_tokenize = np.vectorize(clean_and_tokenize)\n",
    "# clean_df = v_clean_tokenize(np_df)\n",
    "# clean_df += df[\"soup\"].to_numpy()\n",
    "encoded_df = model.encode(np_df)\n",
    "\n",
    "def get_top_k_recos(query,k):\n",
    "    qry_e = model.encode(query)\n",
    "    scores = util.cos_sim(qry_e,encoded_df)\n",
    "    # print(torch.topk(scores,k))\n",
    "    vals,indices = torch.topk(scores,k)\n",
    "    # print(indices)\n",
    "    # for i in indices[0].numpy():\n",
    "    #     print(df['title'].iloc[i])\n",
    "    return df['title'].iloc[indices[0].numpy()]"
   ]
  },
  {
   "cell_type": "code",
   "execution_count": 6,
   "metadata": {},
   "outputs": [
    {
     "name": "stdout",
     "output_type": "stream",
     "text": [
      "Suzanne Collins Young Adult Fiction Dystopia Fantasy Science Fiction Romance Adventure Teen Post Apocalyptic Action Katniss Everdeen Peeta Mellark Cato (Hunger Games) Primrose Everdeen Gale Hawthorne Effie Trinket Haymitch Abernathy Cinna President Coriolanus Snow Rue Flavius Lavinia (Hunger Games) Marvel Glimmer Clove Foxface Thresh Greasy Sae Madge Undersee Caesar Flickerman Claudius Templesmith Octavia (Hunger Games) Portia (hunger Games) District 12, Panem Capitol, Panem Panem (United States) winning means fame fortune losing means certain death hunger games begun ruins place known north america lies nation panem shining capitol surrounded twelve outlying districts capitol harsh cruel keeps districts line forcing send one boy girl ages twelve eighteen participate annual hunger games fight death live tv sixteen year old katniss everdeen regards death sentence steps forward take sister place games katniss close dead survival second nature without really meaning becomes contender win start making choices weight survival humanity life love\n"
     ]
    }
   ],
   "source": [
    "print(np_df[0])"
   ]
  },
  {
   "cell_type": "code",
   "execution_count": 7,
   "metadata": {},
   "outputs": [
    {
     "data": {
      "text/plain": [
       "71                 Harry Potter and the Deathly Hallows\n",
       "32                Harry Potter and the Sorcerer's Stone\n",
       "93             Harry Potter and the Prisoner of Azkaban\n",
       "1             Harry Potter and the Order of the Phoenix\n",
       "8     J.R.R. Tolkien 4-Book Boxed Set: The Hobbit an...\n",
       "7                              The Chronicles of Narnia\n",
       "44                             A Thousand Splendid Suns\n",
       "68                                   Great Expectations\n",
       "77                           The Fellowship of the Ring\n",
       "98                           Interview with the Vampire\n",
       "0                                      The Hunger Games\n",
       "59                                      The Kite Runner\n",
       "46                                    A Game of Thrones\n",
       "90                                   The Golden Compass\n",
       "14                                    The Da Vinci Code\n",
       "3                                   Pride and Prejudice\n",
       "85                               The Brothers Karamazov\n",
       "29                                         Ender's Game\n",
       "81                                     The Color Purple\n",
       "78                      The Girl with the Dragon Tattoo\n",
       "Name: title, dtype: object"
      ]
     },
     "execution_count": 7,
     "metadata": {},
     "output_type": "execute_result"
    }
   ],
   "source": [
    "get_top_k_recos(\"Harry Potter and the Order of the Phoenix\",20)"
   ]
  },
  {
   "cell_type": "code",
   "execution_count": 8,
   "metadata": {},
   "outputs": [],
   "source": [
    "evaldf = pd.read_csv(r'.\\small_eval.csv', index_col=False, encoding=\"utf-8\")\n",
    "evaldf['recommended'] = evaldf['recommended'].apply(literal_eval)\n",
    "\n",
    "def getr(booktitle,k = 20):\n",
    "    predictions = get_top_k_recos(booktitle,k)\n",
    "    actualidx = evaldf[evaldf['title']==booktitle]['recommended']\n",
    "    actual = evaldf['recommended'].iloc[actualidx.index.values[0]]\n",
    "\n",
    "    # print(predictions)\n",
    "    # print(actual)\n",
    "\n",
    "    r = []\n",
    "    for book in range(k):\n",
    "        if predictions.iloc[book] in actual:\n",
    "            r.append(1)\n",
    "        else:\n",
    "            r.append(0)\n",
    "\n",
    "    return r\n"
   ]
  },
  {
   "cell_type": "code",
   "execution_count": 9,
   "metadata": {},
   "outputs": [
    {
     "name": "stdout",
     "output_type": "stream",
     "text": [
      "                                      movies      ndcg\n",
      "0                           The Hunger Games  0.815465\n",
      "1  Harry Potter and the Order of the Phoenix  0.354200\n",
      "2                      To Kill a Mockingbird  0.231378\n",
      "3                        Pride and Prejudice  0.596280\n",
      "4                                   Twilight  0.492987\n",
      "0.2525216399520726\n"
     ]
    }
   ],
   "source": [
    "# print(df['title'].iloc[19])\n",
    "# print(evaldf['title'].iloc[19])\n",
    "showcase = df['title'].values[0:30]\n",
    "ndcg_at_k_list = []\n",
    "rs=[]\n",
    "for book in range(30):\n",
    "    r=getr(df['title'].iloc[book])\n",
    "    rs.append(r)\n",
    "    ndcg_at_k_list.append(ndcg_at_k(r,20))\n",
    "    \n",
    "results = pd.DataFrame({'movies': showcase, 'ndcg': ndcg_at_k_list})\n",
    "\n",
    "print(results.head())\n",
    "\n",
    "# print(getmap(\"Harry Potter and the Order of the Phoenix\"))\n",
    "# print(getmap(\"The Hunger Games\"))\n",
    "\n",
    "print(mean_average_precision(rs))"
   ]
  }
 ],
 "metadata": {
  "kernelspec": {
   "display_name": "Python 3.9.7 ('base')",
   "language": "python",
   "name": "python3"
  },
  "language_info": {
   "codemirror_mode": {
    "name": "ipython",
    "version": 3
   },
   "file_extension": ".py",
   "mimetype": "text/x-python",
   "name": "python",
   "nbconvert_exporter": "python",
   "pygments_lexer": "ipython3",
   "version": "3.9.7"
  },
  "orig_nbformat": 4,
  "vscode": {
   "interpreter": {
    "hash": "ad2bdc8ecc057115af97d19610ffacc2b4e99fae6737bb82f5d7fb13d2f2c186"
   }
  }
 },
 "nbformat": 4,
 "nbformat_minor": 2
}
